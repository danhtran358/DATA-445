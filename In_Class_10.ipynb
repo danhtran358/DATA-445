{
 "cells": [
  {
   "cell_type": "code",
   "execution_count": 25,
   "id": "16c50d72",
   "metadata": {},
   "outputs": [
    {
     "data": {
      "text/html": [
       "<div>\n",
       "<style scoped>\n",
       "    .dataframe tbody tr th:only-of-type {\n",
       "        vertical-align: middle;\n",
       "    }\n",
       "\n",
       "    .dataframe tbody tr th {\n",
       "        vertical-align: top;\n",
       "    }\n",
       "\n",
       "    .dataframe thead th {\n",
       "        text-align: right;\n",
       "    }\n",
       "</style>\n",
       "<table border=\"1\" class=\"dataframe\">\n",
       "  <thead>\n",
       "    <tr style=\"text-align: right;\">\n",
       "      <th></th>\n",
       "      <th>car_ID</th>\n",
       "      <th>symboling</th>\n",
       "      <th>CarName</th>\n",
       "      <th>fueltype</th>\n",
       "      <th>aspiration</th>\n",
       "      <th>doornumber</th>\n",
       "      <th>carbody</th>\n",
       "      <th>drivewheel</th>\n",
       "      <th>enginelocation</th>\n",
       "      <th>wheelbase</th>\n",
       "      <th>...</th>\n",
       "      <th>enginesize</th>\n",
       "      <th>fuelsystem</th>\n",
       "      <th>boreratio</th>\n",
       "      <th>stroke</th>\n",
       "      <th>compressionratio</th>\n",
       "      <th>horsepower</th>\n",
       "      <th>peakrpm</th>\n",
       "      <th>citympg</th>\n",
       "      <th>highwaympg</th>\n",
       "      <th>price</th>\n",
       "    </tr>\n",
       "  </thead>\n",
       "  <tbody>\n",
       "    <tr>\n",
       "      <th>0</th>\n",
       "      <td>1</td>\n",
       "      <td>3</td>\n",
       "      <td>alfa-romero giulia</td>\n",
       "      <td>gas</td>\n",
       "      <td>std</td>\n",
       "      <td>two</td>\n",
       "      <td>convertible</td>\n",
       "      <td>rwd</td>\n",
       "      <td>front</td>\n",
       "      <td>88.6</td>\n",
       "      <td>...</td>\n",
       "      <td>130</td>\n",
       "      <td>mpfi</td>\n",
       "      <td>3.47</td>\n",
       "      <td>2.68</td>\n",
       "      <td>9.0</td>\n",
       "      <td>111</td>\n",
       "      <td>5000</td>\n",
       "      <td>21</td>\n",
       "      <td>27</td>\n",
       "      <td>13495.0</td>\n",
       "    </tr>\n",
       "    <tr>\n",
       "      <th>1</th>\n",
       "      <td>2</td>\n",
       "      <td>3</td>\n",
       "      <td>alfa-romero stelvio</td>\n",
       "      <td>gas</td>\n",
       "      <td>std</td>\n",
       "      <td>two</td>\n",
       "      <td>convertible</td>\n",
       "      <td>rwd</td>\n",
       "      <td>front</td>\n",
       "      <td>88.6</td>\n",
       "      <td>...</td>\n",
       "      <td>130</td>\n",
       "      <td>mpfi</td>\n",
       "      <td>3.47</td>\n",
       "      <td>2.68</td>\n",
       "      <td>9.0</td>\n",
       "      <td>111</td>\n",
       "      <td>5000</td>\n",
       "      <td>21</td>\n",
       "      <td>27</td>\n",
       "      <td>16500.0</td>\n",
       "    </tr>\n",
       "    <tr>\n",
       "      <th>2</th>\n",
       "      <td>3</td>\n",
       "      <td>1</td>\n",
       "      <td>alfa-romero Quadrifoglio</td>\n",
       "      <td>gas</td>\n",
       "      <td>std</td>\n",
       "      <td>two</td>\n",
       "      <td>hatchback</td>\n",
       "      <td>rwd</td>\n",
       "      <td>front</td>\n",
       "      <td>94.5</td>\n",
       "      <td>...</td>\n",
       "      <td>152</td>\n",
       "      <td>mpfi</td>\n",
       "      <td>2.68</td>\n",
       "      <td>3.47</td>\n",
       "      <td>9.0</td>\n",
       "      <td>154</td>\n",
       "      <td>5000</td>\n",
       "      <td>19</td>\n",
       "      <td>26</td>\n",
       "      <td>16500.0</td>\n",
       "    </tr>\n",
       "    <tr>\n",
       "      <th>3</th>\n",
       "      <td>4</td>\n",
       "      <td>2</td>\n",
       "      <td>audi 100 ls</td>\n",
       "      <td>gas</td>\n",
       "      <td>std</td>\n",
       "      <td>four</td>\n",
       "      <td>sedan</td>\n",
       "      <td>fwd</td>\n",
       "      <td>front</td>\n",
       "      <td>99.8</td>\n",
       "      <td>...</td>\n",
       "      <td>109</td>\n",
       "      <td>mpfi</td>\n",
       "      <td>3.19</td>\n",
       "      <td>3.40</td>\n",
       "      <td>10.0</td>\n",
       "      <td>102</td>\n",
       "      <td>5500</td>\n",
       "      <td>24</td>\n",
       "      <td>30</td>\n",
       "      <td>13950.0</td>\n",
       "    </tr>\n",
       "    <tr>\n",
       "      <th>4</th>\n",
       "      <td>5</td>\n",
       "      <td>2</td>\n",
       "      <td>audi 100ls</td>\n",
       "      <td>gas</td>\n",
       "      <td>std</td>\n",
       "      <td>four</td>\n",
       "      <td>sedan</td>\n",
       "      <td>4wd</td>\n",
       "      <td>front</td>\n",
       "      <td>99.4</td>\n",
       "      <td>...</td>\n",
       "      <td>136</td>\n",
       "      <td>mpfi</td>\n",
       "      <td>3.19</td>\n",
       "      <td>3.40</td>\n",
       "      <td>8.0</td>\n",
       "      <td>115</td>\n",
       "      <td>5500</td>\n",
       "      <td>18</td>\n",
       "      <td>22</td>\n",
       "      <td>17450.0</td>\n",
       "    </tr>\n",
       "  </tbody>\n",
       "</table>\n",
       "<p>5 rows × 26 columns</p>\n",
       "</div>"
      ],
      "text/plain": [
       "   car_ID  symboling                   CarName fueltype aspiration doornumber  \\\n",
       "0       1          3        alfa-romero giulia      gas        std        two   \n",
       "1       2          3       alfa-romero stelvio      gas        std        two   \n",
       "2       3          1  alfa-romero Quadrifoglio      gas        std        two   \n",
       "3       4          2               audi 100 ls      gas        std       four   \n",
       "4       5          2                audi 100ls      gas        std       four   \n",
       "\n",
       "       carbody drivewheel enginelocation  wheelbase  ...  enginesize  \\\n",
       "0  convertible        rwd          front       88.6  ...         130   \n",
       "1  convertible        rwd          front       88.6  ...         130   \n",
       "2    hatchback        rwd          front       94.5  ...         152   \n",
       "3        sedan        fwd          front       99.8  ...         109   \n",
       "4        sedan        4wd          front       99.4  ...         136   \n",
       "\n",
       "   fuelsystem  boreratio  stroke compressionratio horsepower  peakrpm citympg  \\\n",
       "0        mpfi       3.47    2.68              9.0        111     5000      21   \n",
       "1        mpfi       3.47    2.68              9.0        111     5000      21   \n",
       "2        mpfi       2.68    3.47              9.0        154     5000      19   \n",
       "3        mpfi       3.19    3.40             10.0        102     5500      24   \n",
       "4        mpfi       3.19    3.40              8.0        115     5500      18   \n",
       "\n",
       "   highwaympg    price  \n",
       "0          27  13495.0  \n",
       "1          27  16500.0  \n",
       "2          26  16500.0  \n",
       "3          30  13950.0  \n",
       "4          22  17450.0  \n",
       "\n",
       "[5 rows x 26 columns]"
      ]
     },
     "execution_count": 25,
     "metadata": {},
     "output_type": "execute_result"
    }
   ],
   "source": [
    "import boto3\n",
    "import pandas as pd\n",
    "import numpy as np\n",
    "import matplotlib.pyplot as plt\n",
    "from sklearn.preprocessing import MinMaxScaler\n",
    "from sklearn.model_selection import train_test_split\n",
    "import tensorflow as tf\n",
    "\n",
    "## Defining the bucket\n",
    "s3 = boto3.resource('s3')\n",
    "bucket_name = 'danhtran358-data-445-bucket'\n",
    "bucket = s3.Bucket(bucket_name)\n",
    "\n",
    "## Defining the csv file\n",
    "file_key = 'CarPrice_Assignment.csv'\n",
    "\n",
    "bucket_object = bucket.Object(file_key)\n",
    "file_object = bucket_object.get()\n",
    "file_content_stream = file_object.get('Body')\n",
    "\n",
    "## Reading the csv file\n",
    "car_price = pd.read_csv(file_content_stream)\n",
    "car_price.head()"
   ]
  },
  {
   "cell_type": "code",
   "execution_count": 26,
   "id": "22c5f9c8",
   "metadata": {},
   "outputs": [],
   "source": [
    "## Defining the input and target variables\n",
    "X = car_price[['wheelbase', 'enginesize', 'compressionratio', 'horsepower', 'peakrpm', 'citympg']]\n",
    "Y = car_price['price']\n",
    "\n",
    "## Split the data into train & testing\n",
    "X_train, X_test, Y_train, Y_test = train_test_split(X, Y, test_size = 0.2)"
   ]
  },
  {
   "cell_type": "code",
   "execution_count": 27,
   "id": "585e1d04",
   "metadata": {},
   "outputs": [],
   "source": [
    "## Transforming input data to 0-1\n",
    "scaler = MinMaxScaler()\n",
    "X_train = scaler.fit_transform(X_train)\n",
    "X_test = scaler.fit_transform(X_test)"
   ]
  },
  {
   "cell_type": "code",
   "execution_count": 28,
   "id": "2d87522c",
   "metadata": {},
   "outputs": [
    {
     "data": {
      "text/plain": [
       "<keras.callbacks.History at 0x7fde80938160>"
      ]
     },
     "execution_count": 28,
     "metadata": {},
     "output_type": "execute_result"
    }
   ],
   "source": [
    "md1 = tf.keras.models.Sequential([\n",
    "      tf.keras.layers.Dense(10, input_dim = 6, activation = 'relu'),\n",
    "      tf.keras.layers.Dense(1)\n",
    "])\n",
    "\n",
    "md1.compile(optimizer = 'adam', loss = 'mse')\n",
    "md1.fit(X_train, Y_train, epochs = 100, batch_size = 100, verbose = 0)"
   ]
  },
  {
   "cell_type": "code",
   "execution_count": 29,
   "id": "2c2e29fe",
   "metadata": {},
   "outputs": [
    {
     "name": "stdout",
     "output_type": "stream",
     "text": [
      "2/2 [==============================] - 0s 3ms/step - loss: 215570240.0000\n"
     ]
    },
    {
     "data": {
      "text/plain": [
       "215570240.0"
      ]
     },
     "execution_count": 29,
     "metadata": {},
     "output_type": "execute_result"
    }
   ],
   "source": [
    "md1.evaluate(X_test, Y_test)"
   ]
  },
  {
   "cell_type": "code",
   "execution_count": 30,
   "id": "9ad6c011",
   "metadata": {},
   "outputs": [
    {
     "data": {
      "text/plain": [
       "[<tf.Variable 'dense_9/kernel:0' shape=(6, 10) dtype=float32, numpy=\n",
       " array([[-0.33000803,  0.20535848, -0.05036539,  0.375091  , -0.05274838,\n",
       "         -0.18644874, -0.09245523,  0.00187641,  0.57820326, -0.27856022],\n",
       "        [-0.21948123,  0.33636928, -0.27840415,  0.10213741, -0.5599851 ,\n",
       "         -0.09512071,  0.3497115 , -0.46188736, -0.04773526, -0.12613994],\n",
       "        [-0.15149412,  0.3456038 ,  0.28822094, -0.32340264, -0.21875879,\n",
       "          0.5130969 ,  0.44383192,  0.23660088,  0.11594445,  0.795868  ],\n",
       "        [-0.37595266,  0.2942815 ,  0.08387202, -0.7270189 ,  0.24063677,\n",
       "          0.558434  , -0.41600576, -0.33237442,  0.4058625 , -0.16610464],\n",
       "        [-0.27829567,  0.11691704, -0.18663335,  0.09741498, -0.49448106,\n",
       "          0.00115369, -0.47100103, -0.33674437, -0.09184795,  0.18555234],\n",
       "        [ 0.16545236,  0.8102423 , -0.5204469 ,  0.3687705 , -0.37518337,\n",
       "          0.7570356 , -0.542767  , -0.4685967 ,  0.37447163,  0.7349155 ]],\n",
       "       dtype=float32)>,\n",
       " <tf.Variable 'dense_9/bias:0' shape=(10,) dtype=float32, numpy=\n",
       " array([ 0.        ,  0.29411465,  0.        , -0.15100366,  0.        ,\n",
       "         0.27034298, -0.14330037,  0.        ,  0.23264673,  0.28387713],\n",
       "       dtype=float32)>]"
      ]
     },
     "execution_count": 30,
     "metadata": {},
     "output_type": "execute_result"
    }
   ],
   "source": [
    "md1.layers[0].weights"
   ]
  },
  {
   "cell_type": "code",
   "execution_count": 31,
   "id": "7cabb8c9",
   "metadata": {},
   "outputs": [
    {
     "data": {
      "text/plain": [
       "<keras.callbacks.History at 0x7fde807d1860>"
      ]
     },
     "execution_count": 31,
     "metadata": {},
     "output_type": "execute_result"
    }
   ],
   "source": [
    "md2 = tf.keras.models.Sequential([\n",
    "      tf.keras.layers.Dense(10, input_dim = 6, activation = 'relu'),\n",
    "      tf.keras.layers.Dense(8, activation = 'relu'),\n",
    "      tf.keras.layers.Dense(1)\n",
    "])\n",
    "md2.compile(optimizer = 'adam', loss = 'mse')\n",
    "md2.fit(X_train, Y_train, epochs = 100, batch_size = 100, verbose = 0)"
   ]
  },
  {
   "cell_type": "code",
   "execution_count": 32,
   "id": "28f5444e",
   "metadata": {},
   "outputs": [
    {
     "name": "stdout",
     "output_type": "stream",
     "text": [
      "2/2 [==============================] - 0s 3ms/step - loss: 215403200.0000\n"
     ]
    },
    {
     "data": {
      "text/plain": [
       "215403200.0"
      ]
     },
     "execution_count": 32,
     "metadata": {},
     "output_type": "execute_result"
    }
   ],
   "source": [
    "md2.evaluate(X_test,Y_test)"
   ]
  },
  {
   "cell_type": "code",
   "execution_count": 33,
   "id": "974f71ab",
   "metadata": {},
   "outputs": [
    {
     "data": {
      "text/plain": [
       "[<tf.Variable 'dense_11/kernel:0' shape=(6, 10) dtype=float32, numpy=\n",
       " array([[ 0.53149825,  0.15320355,  0.03004826,  0.6833294 ,  0.43425572,\n",
       "          0.09300532,  0.12256465,  0.05317635,  0.3094386 , -0.08285594],\n",
       "        [-0.0987654 ,  0.30386466,  0.8117745 ,  0.5541578 ,  0.4225659 ,\n",
       "         -0.50492734,  0.4997188 , -0.27029303,  0.05529964,  0.3532479 ],\n",
       "        [-0.25459382, -0.68143845,  0.5342126 , -0.21862586,  0.21304582,\n",
       "          0.18493116, -0.26409745,  0.69367486,  0.10890777,  0.5237922 ],\n",
       "        [ 0.05550654, -0.02687232,  0.42604214, -0.17542435,  0.34047806,\n",
       "          0.04987343,  0.538965  ,  0.04246259,  0.6205754 ,  0.35282475],\n",
       "        [ 0.26188052,  0.08373655, -0.01089149, -0.0202066 , -0.44689557,\n",
       "         -0.26818362,  0.35242075,  0.654024  , -0.26285666,  0.8361786 ],\n",
       "        [ 0.491068  , -0.5087387 ,  0.6641598 ,  0.707031  ,  0.39520645,\n",
       "         -0.17907761, -0.09061486,  0.42494518,  0.844978  ,  0.06996691]],\n",
       "       dtype=float32)>,\n",
       " <tf.Variable 'dense_11/bias:0' shape=(10,) dtype=float32, numpy=\n",
       " array([ 0.3000607 , -0.08410326,  0.2807057 ,  0.23977919, -0.1106003 ,\n",
       "        -0.04276995,  0.22167338,  0.280614  ,  0.29538056,  0.26158017],\n",
       "       dtype=float32)>]"
      ]
     },
     "execution_count": 33,
     "metadata": {},
     "output_type": "execute_result"
    }
   ],
   "source": [
    "md2.layers[0].weights"
   ]
  },
  {
   "cell_type": "code",
   "execution_count": 34,
   "id": "fdc55d60",
   "metadata": {},
   "outputs": [
    {
     "data": {
      "text/plain": [
       "[<tf.Variable 'dense_12/kernel:0' shape=(10, 8) dtype=float32, numpy=\n",
       " array([[ 0.16642712, -0.12863725,  0.4812981 , -0.2927036 ,  0.23451336,\n",
       "         -0.5783682 , -0.13214038,  0.61309576],\n",
       "        [ 0.75653964, -0.1646041 , -0.1295206 ,  0.26822558,  0.26684   ,\n",
       "         -0.076267  , -0.03139281, -0.3297195 ],\n",
       "        [ 0.27998647,  0.8638649 , -0.07333727, -0.4821614 , -0.0634032 ,\n",
       "         -0.07993656,  0.11397889,  0.7152214 ],\n",
       "        [ 0.33251488,  0.8837515 ,  0.01627851,  0.40497962,  0.03151224,\n",
       "          0.41391745,  0.3711178 ,  0.7636784 ],\n",
       "        [-0.27128133,  0.32764587,  0.44671938, -0.15459622,  0.68971217,\n",
       "          0.45862252, -0.3394096 , -0.07244425],\n",
       "        [-0.43576637,  0.3288964 , -0.45950297,  0.30614   ,  0.32915792,\n",
       "         -0.43720186,  0.14514309, -0.240438  ],\n",
       "        [ 0.00998419, -0.22394137,  0.33907354, -0.15157624,  0.49424025,\n",
       "         -0.29701144,  0.13162604,  0.31026077],\n",
       "        [ 0.8125669 ,  0.33181235,  0.8176651 ,  0.12791352,  0.55896914,\n",
       "         -0.46592534,  0.08236789, -0.22501075],\n",
       "        [-0.02408352, -0.09023788, -0.00830951,  0.19323432,  0.25881785,\n",
       "         -0.19681086, -0.01262919,  0.60895514],\n",
       "        [ 0.538476  , -0.23720877,  0.38755304, -0.592656  ,  0.17118405,\n",
       "         -0.3338438 , -0.59358865,  0.79085386]], dtype=float32)>,\n",
       " <tf.Variable 'dense_12/bias:0' shape=(8,) dtype=float32, numpy=\n",
       " array([ 0.29870847,  0.26520002,  0.24089622, -0.02023945,  0.27443883,\n",
       "        -0.07413097, -0.0288453 ,  0.23469955], dtype=float32)>]"
      ]
     },
     "execution_count": 34,
     "metadata": {},
     "output_type": "execute_result"
    }
   ],
   "source": [
    "md2.layers[1].weights"
   ]
  },
  {
   "cell_type": "code",
   "execution_count": null,
   "id": "691a2f4c",
   "metadata": {},
   "outputs": [],
   "source": [
    "## I would use the second model because its MSE is lower"
   ]
  }
 ],
 "metadata": {
  "kernelspec": {
   "display_name": "conda_python3",
   "language": "python",
   "name": "conda_python3"
  },
  "language_info": {
   "codemirror_mode": {
    "name": "ipython",
    "version": 3
   },
   "file_extension": ".py",
   "mimetype": "text/x-python",
   "name": "python",
   "nbconvert_exporter": "python",
   "pygments_lexer": "ipython3",
   "version": "3.6.13"
  }
 },
 "nbformat": 4,
 "nbformat_minor": 5
}
