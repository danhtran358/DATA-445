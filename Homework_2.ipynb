{
 "cells": [
  {
   "cell_type": "code",
   "execution_count": 2,
   "id": "c9afad62",
   "metadata": {},
   "outputs": [],
   "source": [
    "## 1. c. LOOCV"
   ]
  },
  {
   "cell_type": "code",
   "execution_count": 3,
   "id": "6bc8dbda",
   "metadata": {},
   "outputs": [],
   "source": [
    "## 2. d. high bias and high variance"
   ]
  },
  {
   "cell_type": "code",
   "execution_count": 4,
   "id": "e1f1fa51",
   "metadata": {},
   "outputs": [],
   "source": [
    "## 3. a. low bias and low variance"
   ]
  },
  {
   "cell_type": "code",
   "execution_count": 5,
   "id": "39423c62",
   "metadata": {},
   "outputs": [],
   "source": [
    "## 4. Regularization is to restrict the estimation of coefficients by putting penalty on them\n",
    "## so the fitted model has lower variability or is simpler. Lower variabiliby helps produce\n",
    "## more accurate result, while simpler models are easier to interpret with less variables."
   ]
  },
  {
   "cell_type": "code",
   "execution_count": 50,
   "id": "dd5aff50",
   "metadata": {},
   "outputs": [
    {
     "data": {
      "text/html": [
       "<div>\n",
       "<style scoped>\n",
       "    .dataframe tbody tr th:only-of-type {\n",
       "        vertical-align: middle;\n",
       "    }\n",
       "\n",
       "    .dataframe tbody tr th {\n",
       "        vertical-align: top;\n",
       "    }\n",
       "\n",
       "    .dataframe thead th {\n",
       "        text-align: right;\n",
       "    }\n",
       "</style>\n",
       "<table border=\"1\" class=\"dataframe\">\n",
       "  <thead>\n",
       "    <tr style=\"text-align: right;\">\n",
       "      <th></th>\n",
       "      <th>male</th>\n",
       "      <th>age</th>\n",
       "      <th>education</th>\n",
       "      <th>currentSmoker</th>\n",
       "      <th>cigsPerDay</th>\n",
       "      <th>BPMeds</th>\n",
       "      <th>prevalentStroke</th>\n",
       "      <th>prevalentHyp</th>\n",
       "      <th>diabetes</th>\n",
       "      <th>totChol</th>\n",
       "      <th>sysBP</th>\n",
       "      <th>diaBP</th>\n",
       "      <th>BMI</th>\n",
       "      <th>heartRate</th>\n",
       "      <th>glucose</th>\n",
       "      <th>TenYearCHD</th>\n",
       "    </tr>\n",
       "  </thead>\n",
       "  <tbody>\n",
       "    <tr>\n",
       "      <th>0</th>\n",
       "      <td>1</td>\n",
       "      <td>39</td>\n",
       "      <td>4.0</td>\n",
       "      <td>0</td>\n",
       "      <td>0.0</td>\n",
       "      <td>0.0</td>\n",
       "      <td>0</td>\n",
       "      <td>0</td>\n",
       "      <td>0</td>\n",
       "      <td>195.0</td>\n",
       "      <td>106.0</td>\n",
       "      <td>70.0</td>\n",
       "      <td>26.97</td>\n",
       "      <td>80.0</td>\n",
       "      <td>77.0</td>\n",
       "      <td>0</td>\n",
       "    </tr>\n",
       "    <tr>\n",
       "      <th>1</th>\n",
       "      <td>0</td>\n",
       "      <td>46</td>\n",
       "      <td>2.0</td>\n",
       "      <td>0</td>\n",
       "      <td>0.0</td>\n",
       "      <td>0.0</td>\n",
       "      <td>0</td>\n",
       "      <td>0</td>\n",
       "      <td>0</td>\n",
       "      <td>250.0</td>\n",
       "      <td>121.0</td>\n",
       "      <td>81.0</td>\n",
       "      <td>28.73</td>\n",
       "      <td>95.0</td>\n",
       "      <td>76.0</td>\n",
       "      <td>0</td>\n",
       "    </tr>\n",
       "    <tr>\n",
       "      <th>2</th>\n",
       "      <td>1</td>\n",
       "      <td>48</td>\n",
       "      <td>1.0</td>\n",
       "      <td>1</td>\n",
       "      <td>20.0</td>\n",
       "      <td>0.0</td>\n",
       "      <td>0</td>\n",
       "      <td>0</td>\n",
       "      <td>0</td>\n",
       "      <td>245.0</td>\n",
       "      <td>127.5</td>\n",
       "      <td>80.0</td>\n",
       "      <td>25.34</td>\n",
       "      <td>75.0</td>\n",
       "      <td>70.0</td>\n",
       "      <td>0</td>\n",
       "    </tr>\n",
       "    <tr>\n",
       "      <th>3</th>\n",
       "      <td>0</td>\n",
       "      <td>61</td>\n",
       "      <td>3.0</td>\n",
       "      <td>1</td>\n",
       "      <td>30.0</td>\n",
       "      <td>0.0</td>\n",
       "      <td>0</td>\n",
       "      <td>1</td>\n",
       "      <td>0</td>\n",
       "      <td>225.0</td>\n",
       "      <td>150.0</td>\n",
       "      <td>95.0</td>\n",
       "      <td>28.58</td>\n",
       "      <td>65.0</td>\n",
       "      <td>103.0</td>\n",
       "      <td>1</td>\n",
       "    </tr>\n",
       "    <tr>\n",
       "      <th>4</th>\n",
       "      <td>0</td>\n",
       "      <td>46</td>\n",
       "      <td>3.0</td>\n",
       "      <td>1</td>\n",
       "      <td>23.0</td>\n",
       "      <td>0.0</td>\n",
       "      <td>0</td>\n",
       "      <td>0</td>\n",
       "      <td>0</td>\n",
       "      <td>285.0</td>\n",
       "      <td>130.0</td>\n",
       "      <td>84.0</td>\n",
       "      <td>23.10</td>\n",
       "      <td>85.0</td>\n",
       "      <td>85.0</td>\n",
       "      <td>0</td>\n",
       "    </tr>\n",
       "  </tbody>\n",
       "</table>\n",
       "</div>"
      ],
      "text/plain": [
       "   male  age  education  currentSmoker  cigsPerDay  BPMeds  prevalentStroke  \\\n",
       "0     1   39        4.0              0         0.0     0.0                0   \n",
       "1     0   46        2.0              0         0.0     0.0                0   \n",
       "2     1   48        1.0              1        20.0     0.0                0   \n",
       "3     0   61        3.0              1        30.0     0.0                0   \n",
       "4     0   46        3.0              1        23.0     0.0                0   \n",
       "\n",
       "   prevalentHyp  diabetes  totChol  sysBP  diaBP    BMI  heartRate  glucose  \\\n",
       "0             0         0    195.0  106.0   70.0  26.97       80.0     77.0   \n",
       "1             0         0    250.0  121.0   81.0  28.73       95.0     76.0   \n",
       "2             0         0    245.0  127.5   80.0  25.34       75.0     70.0   \n",
       "3             1         0    225.0  150.0   95.0  28.58       65.0    103.0   \n",
       "4             0         0    285.0  130.0   84.0  23.10       85.0     85.0   \n",
       "\n",
       "   TenYearCHD  \n",
       "0           0  \n",
       "1           0  \n",
       "2           0  \n",
       "3           1  \n",
       "4           0  "
      ]
     },
     "execution_count": 50,
     "metadata": {},
     "output_type": "execute_result"
    }
   ],
   "source": [
    "## 5\n",
    "## import packages and modules\n",
    "import boto3\n",
    "import pandas as pd\n",
    "import numpy as np\n",
    "from sklearn.model_selection import KFold\n",
    "from sklearn.linear_model import LogisticRegression\n",
    "from sklearn.preprocessing import MinMaxScaler\n",
    "from sklearn.metrics import f1_score\n",
    "\n",
    "## fetch file content from s3\n",
    "s3 = boto3.resource('s3')\n",
    "bucket = s3.Bucket('danhtran358-data-445-bucket')\n",
    "bucket_object = bucket.Object('framingham.csv')\n",
    "file_object = bucket_object.get()\n",
    "file_content_stream = file_object.get('Body')\n",
    "\n",
    "## read file content to data-frame\n",
    "heart = pd.read_csv(file_content_stream)\n",
    "heart.head()"
   ]
  },
  {
   "cell_type": "code",
   "execution_count": 51,
   "id": "1fdc1ee1",
   "metadata": {},
   "outputs": [],
   "source": [
    "## remove observations with missing values\n",
    "heart = heart.dropna().reset_index(drop = True)"
   ]
  },
  {
   "cell_type": "code",
   "execution_count": 52,
   "id": "433678aa",
   "metadata": {},
   "outputs": [],
   "source": [
    "## defining input and target variables\n",
    "X1 = heart[['age', 'currentSmoker', 'totChol', 'sysBP', 'diaBP', 'BMI', 'heartRate', 'glucose']]\n",
    "X2 = heart[['age', 'currentSmoker', 'totChol', 'BMI', 'heartRate', 'glucose']]\n",
    "Y = heart['TenYearCHD']"
   ]
  },
  {
   "cell_type": "code",
   "execution_count": 53,
   "id": "662d87f1",
   "metadata": {},
   "outputs": [],
   "source": [
    "## scale input variables to 0-1 range\n",
    "X1_scaled = MinMaxScaler().fit_transform(X1)\n",
    "X2_scaled = MinMaxScaler().fit_transform(X2)\n",
    "\n",
    "## recreate data frame from arrays\n",
    "X1_scaled = pd.DataFrame(X1_scaled)\n",
    "X2_scaled = pd.DataFrame(X2_scaled)"
   ]
  },
  {
   "cell_type": "code",
   "execution_count": 54,
   "id": "5707cfde",
   "metadata": {},
   "outputs": [
    {
     "name": "stdout",
     "output_type": "stream",
     "text": [
      "[0.32456140350877194, 0.34821428571428575, 0.2938388625592417, 0.3486238532110092, 0.3463203463203463]\n",
      "[0.3225806451612903, 0.28444444444444444, 0.3380281690140845, 0.30434782608695654, 0.32799999999999996]\n"
     ]
    }
   ],
   "source": [
    "## lists to store results\n",
    "md1_result = list()\n",
    "md2_result = list()\n",
    "\n",
    "kfold = KFold(n_splits = 5, shuffle = True)\n",
    "\n",
    "for train_ix, test_ix in kfold.split(X):\n",
    "    ## split data into train and validation folds\n",
    "    X1_train, X1_test = X1_scaled.loc[train_ix], X1_scaled.loc[test_ix]\n",
    "    X2_train, X2_test = X2_scaled.loc[train_ix], X2_scaled.loc[test_ix]\n",
    "    Y_train, Y_test = Y.loc[train_ix], Y.loc[test_ix]\n",
    "    \n",
    "    ## build logistic models\n",
    "    logit_md1 = LogisticRegression().fit(X1_train, Y_train)\n",
    "    logit_md2 = LogisticRegression().fit(X2_train, Y_train)\n",
    "    \n",
    "    ## predict the likelihood\n",
    "    preds1 = logit_md1.predict_proba(X1_test)[:,1]\n",
    "    preds2 = logit_md2.predict_proba(X2_test)[:,1]\n",
    "    \n",
    "    ## label likelihood\n",
    "    preds1 = np.where(preds1 < 0.25, 0, 1)\n",
    "    preds2 = np.where(preds2 < 0.25, 0, 1)\n",
    "    \n",
    "    ## compute and store F1 score\n",
    "    md1_result.append(f1_score(Y_test, preds1))\n",
    "    md2_result.append(f1_score(Y_test, preds2))\n",
    "\n",
    "print(md1_result)\n",
    "print(md2_result)  "
   ]
  },
  {
   "cell_type": "code",
   "execution_count": 55,
   "id": "145012de",
   "metadata": {},
   "outputs": [
    {
     "name": "stdout",
     "output_type": "stream",
     "text": [
      "0.33231175026273096\n",
      "0.3154802169413552\n"
     ]
    }
   ],
   "source": [
    "## compute average F1 scores\n",
    "avg_f1_score1 = np.mean(md1_result)\n",
    "avg_f1_score2 = np.mean(md2_result)\n",
    "\n",
    "print(avg_f1_score1)\n",
    "print(avg_f1_score2)\n",
    "\n",
    "## I would use the first model to predict TenYearCHD because it has higher F1 score,\n",
    "## which means it would predict with higher accuracy"
   ]
  },
  {
   "cell_type": "code",
   "execution_count": null,
   "id": "22f1f1a6",
   "metadata": {},
   "outputs": [],
   "source": []
  }
 ],
 "metadata": {
  "kernelspec": {
   "display_name": "conda_python3",
   "language": "python",
   "name": "conda_python3"
  },
  "language_info": {
   "codemirror_mode": {
    "name": "ipython",
    "version": 3
   },
   "file_extension": ".py",
   "mimetype": "text/x-python",
   "name": "python",
   "nbconvert_exporter": "python",
   "pygments_lexer": "ipython3",
   "version": "3.6.13"
  }
 },
 "nbformat": 4,
 "nbformat_minor": 5
}
