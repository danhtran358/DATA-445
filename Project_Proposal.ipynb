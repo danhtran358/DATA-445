{
 "cells": [
  {
   "cell_type": "code",
   "execution_count": 13,
   "id": "8c386575",
   "metadata": {},
   "outputs": [
    {
     "data": {
      "text/html": [
       "<div>\n",
       "<style scoped>\n",
       "    .dataframe tbody tr th:only-of-type {\n",
       "        vertical-align: middle;\n",
       "    }\n",
       "\n",
       "    .dataframe tbody tr th {\n",
       "        vertical-align: top;\n",
       "    }\n",
       "\n",
       "    .dataframe thead th {\n",
       "        text-align: right;\n",
       "    }\n",
       "</style>\n",
       "<table border=\"1\" class=\"dataframe\">\n",
       "  <thead>\n",
       "    <tr style=\"text-align: right;\">\n",
       "      <th></th>\n",
       "      <th>Pregnancies</th>\n",
       "      <th>Glucose</th>\n",
       "      <th>BloodPressure</th>\n",
       "      <th>SkinThickness</th>\n",
       "      <th>Insulin</th>\n",
       "      <th>BMI</th>\n",
       "      <th>DiabetesPedigreeFunction</th>\n",
       "      <th>Age</th>\n",
       "      <th>Outcome</th>\n",
       "    </tr>\n",
       "  </thead>\n",
       "  <tbody>\n",
       "    <tr>\n",
       "      <th>0</th>\n",
       "      <td>6</td>\n",
       "      <td>148</td>\n",
       "      <td>72</td>\n",
       "      <td>35</td>\n",
       "      <td>0</td>\n",
       "      <td>33.6</td>\n",
       "      <td>0.627</td>\n",
       "      <td>50</td>\n",
       "      <td>1</td>\n",
       "    </tr>\n",
       "    <tr>\n",
       "      <th>1</th>\n",
       "      <td>1</td>\n",
       "      <td>85</td>\n",
       "      <td>66</td>\n",
       "      <td>29</td>\n",
       "      <td>0</td>\n",
       "      <td>26.6</td>\n",
       "      <td>0.351</td>\n",
       "      <td>31</td>\n",
       "      <td>0</td>\n",
       "    </tr>\n",
       "    <tr>\n",
       "      <th>2</th>\n",
       "      <td>8</td>\n",
       "      <td>183</td>\n",
       "      <td>64</td>\n",
       "      <td>0</td>\n",
       "      <td>0</td>\n",
       "      <td>23.3</td>\n",
       "      <td>0.672</td>\n",
       "      <td>32</td>\n",
       "      <td>1</td>\n",
       "    </tr>\n",
       "    <tr>\n",
       "      <th>3</th>\n",
       "      <td>1</td>\n",
       "      <td>89</td>\n",
       "      <td>66</td>\n",
       "      <td>23</td>\n",
       "      <td>94</td>\n",
       "      <td>28.1</td>\n",
       "      <td>0.167</td>\n",
       "      <td>21</td>\n",
       "      <td>0</td>\n",
       "    </tr>\n",
       "    <tr>\n",
       "      <th>4</th>\n",
       "      <td>0</td>\n",
       "      <td>137</td>\n",
       "      <td>40</td>\n",
       "      <td>35</td>\n",
       "      <td>168</td>\n",
       "      <td>43.1</td>\n",
       "      <td>2.288</td>\n",
       "      <td>33</td>\n",
       "      <td>1</td>\n",
       "    </tr>\n",
       "  </tbody>\n",
       "</table>\n",
       "</div>"
      ],
      "text/plain": [
       "   Pregnancies  Glucose  BloodPressure  SkinThickness  Insulin   BMI  \\\n",
       "0            6      148             72             35        0  33.6   \n",
       "1            1       85             66             29        0  26.6   \n",
       "2            8      183             64              0        0  23.3   \n",
       "3            1       89             66             23       94  28.1   \n",
       "4            0      137             40             35      168  43.1   \n",
       "\n",
       "   DiabetesPedigreeFunction  Age  Outcome  \n",
       "0                     0.627   50        1  \n",
       "1                     0.351   31        0  \n",
       "2                     0.672   32        1  \n",
       "3                     0.167   21        0  \n",
       "4                     2.288   33        1  "
      ]
     },
     "execution_count": 13,
     "metadata": {},
     "output_type": "execute_result"
    }
   ],
   "source": [
    "import boto3\n",
    "import pandas as pd\n",
    "from matplotlib import pyplot as plt\n",
    "import numpy as np\n",
    "\n",
    "s3 = boto3.resource('s3')\n",
    "bucket = s3.Bucket('danhtran358-data-445-bucket')\n",
    "fileObject = bucket.Object('diabetes.csv')\n",
    "fileContentStream = fileObject.get().get('Body')\n",
    "\n",
    "diabetes = pd.read_csv(fileContentStream)\n",
    "diabetes.head()"
   ]
  },
  {
   "cell_type": "code",
   "execution_count": 63,
   "id": "044c2bea",
   "metadata": {},
   "outputs": [
    {
     "data": {
      "image/png": "[encoded data removed]",
      "text/plain": [
       "<Figure size 432x288 with 1 Axes>"
      ]
     },
     "metadata": {
      "needs_background": "light"
     },
     "output_type": "display_data"
    }
   ],
   "source": [
    "#fig = plt.figure(figsize = (12, 8))\n",
    "plt.hist(diabetes['Pregnancies'], bins = range(max(diabetes['Pregnancies']) + 2))\n",
    "plt.title('Pregnancy Distribution')\n",
    "plt.ylabel('Frequency')\n",
    "plt.xlabel('Number of times pregnant')\n",
    "plt.xticks(range(max(diabetes['Pregnancies'])+1))\n",
    "plt.show()\n",
    "#print(max(diabetes['Pregnancies']))\n",
    "#print(diabetes['Pregnancies'].value_counts())"
   ]
  },
  {
   "cell_type": "code",
   "execution_count": 64,
   "id": "f5eba94c",
   "metadata": {},
   "outputs": [
    {
     "data": {
      "image/png": "[encoded data removed]",
      "text/plain": [
       "<Figure size 432x288 with 1 Axes>"
      ]
     },
     "metadata": {
      "needs_background": "light"
     },
     "output_type": "display_data"
    },
    {
     "name": "stdout",
     "output_type": "stream",
     "text": [
      "Counts of values less than 50:\n",
      "0     5\n",
      "44    1\n",
      "Name: Glucose, dtype: int64\n"
     ]
    }
   ],
   "source": [
    "#fig = plt.figure(figsize = (12, 8))\n",
    "plt.hist(diabetes['Glucose'])\n",
    "plt.title('Distribution of Oral Glucose Tolerance Test Result')\n",
    "plt.ylabel('Frequency')\n",
    "plt.xlabel('OGTT test result')\n",
    "plt.show()\n",
    "print('Counts of OGTT values less than 50:')\n",
    "print((diabetes['Glucose'].loc[diabetes['Glucose'] < 50]).value_counts())"
   ]
  },
  {
   "cell_type": "code",
   "execution_count": 71,
   "id": "f6c1bfd7",
   "metadata": {},
   "outputs": [
    {
     "data": {
      "image/png": "[encoded data removed]",
      "text/plain": [
       "<Figure size 432x288 with 1 Axes>"
      ]
     },
     "metadata": {
      "needs_background": "light"
     },
     "output_type": "display_data"
    },
    {
     "name": "stdout",
     "output_type": "stream",
     "text": [
      "Counts of BloodPressure values less than 40:\n",
      "0     35\n",
      "30     2\n",
      "38     1\n",
      "24     1\n",
      "Name: BloodPressure, dtype: int64\n"
     ]
    }
   ],
   "source": [
    "#fig = plt.figure(figsize = (12, 8))\n",
    "plt.hist(diabetes['BloodPressure'])\n",
    "plt.title('Diastolic Blood Pressure Distribution')\n",
    "plt.ylabel('Frequency')\n",
    "plt.xlabel('Blood Pressure (mm Hg)')\n",
    "plt.show()\n",
    "print('Counts of BloodPressure values less than 40:')\n",
    "print((diabetes['BloodPressure'].loc[diabetes['BloodPressure'] < 40]).value_counts())"
   ]
  },
  {
   "cell_type": "code",
   "execution_count": 72,
   "id": "571e599e",
   "metadata": {},
   "outputs": [
    {
     "data": {
      "image/png": "[encoded data removed]",
      "text/plain": [
       "<Figure size 432x288 with 1 Axes>"
      ]
     },
     "metadata": {
      "needs_background": "light"
     },
     "output_type": "display_data"
    },
    {
     "name": "stdout",
     "output_type": "stream",
     "text": [
      "Counts of SkinThickness values less than 10:\n",
      "0    227\n",
      "8      2\n",
      "7      2\n",
      "Name: SkinThickness, dtype: int64\n"
     ]
    }
   ],
   "source": [
    "#fig = plt.figure(figsize = (12, 8))\n",
    "plt.hist(diabetes['SkinThickness'])\n",
    "plt.title('Distribution of Triceps Skinfold Thickness')\n",
    "plt.ylabel('Frequency')\n",
    "plt.xlabel('Skinfold Thickness (mm)')\n",
    "plt.show()\n",
    "print('Counts of SkinThickness values less than 10:')\n",
    "print((diabetes['SkinThickness'].loc[diabetes['SkinThickness'] < 10]).value_counts())"
   ]
  },
  {
   "cell_type": "code",
   "execution_count": 78,
   "id": "06529137",
   "metadata": {},
   "outputs": [
    {
     "data": {
      "image/png": "[encoded data removed]",
      "text/plain": [
       "<Figure size 432x288 with 1 Axes>"
      ]
     },
     "metadata": {
      "needs_background": "light"
     },
     "output_type": "display_data"
    },
    {
     "name": "stdout",
     "output_type": "stream",
     "text": [
      "Counts of Insulin values less than 20:\n",
      "0     374\n",
      "18      2\n",
      "16      1\n",
      "15      1\n",
      "14      1\n",
      "Name: Insulin, dtype: int64\n"
     ]
    }
   ],
   "source": [
    "#fig = plt.figure(figsize = (12, 8))\n",
    "plt.hist(diabetes['Insulin'])\n",
    "plt.title('Insulin Mesurement Distribution')\n",
    "plt.ylabel('Frequency')\n",
    "plt.xlabel('Insulin')\n",
    "plt.show()\n",
    "print('Counts of Insulin values less than 20:')\n",
    "print((diabetes['Insulin'].loc[diabetes['Insulin'] < 20]).value_counts())"
   ]
  },
  {
   "cell_type": "code",
   "execution_count": 89,
   "id": "f678f63b",
   "metadata": {},
   "outputs": [
    {
     "data": {
      "image/png": "[encoded data removed]",
      "text/plain": [
       "<Figure size 432x288 with 1 Axes>"
      ]
     },
     "metadata": {
      "needs_background": "light"
     },
     "output_type": "display_data"
    },
    {
     "name": "stdout",
     "output_type": "stream",
     "text": [
      "Counts of BMI values less than 20:\n",
      "0.0     11\n",
      "19.6     3\n",
      "18.2     3\n",
      "19.5     2\n",
      "18.4     1\n",
      "19.4     1\n",
      "19.9     1\n",
      "19.1     1\n",
      "19.3     1\n",
      "Name: BMI, dtype: int64\n"
     ]
    }
   ],
   "source": [
    "#fig = plt.figure(figsize = (12, 8))\n",
    "plt.hist(diabetes['BMI'])\n",
    "plt.title('BMI Distribution')\n",
    "plt.ylabel('Frequency')\n",
    "plt.xlabel('BMI')\n",
    "plt.show()\n",
    "print('Counts of BMI values less than 20:')\n",
    "print((diabetes['BMI'].loc[diabetes['BMI'] < 20]).value_counts())"
   ]
  },
  {
   "cell_type": "code",
   "execution_count": 82,
   "id": "3be9686a",
   "metadata": {},
   "outputs": [
    {
     "data": {
      "image/png": "[encoded data removed]",
      "text/plain": [
       "<Figure size 432x288 with 1 Axes>"
      ]
     },
     "metadata": {
      "needs_background": "light"
     },
     "output_type": "display_data"
    }
   ],
   "source": [
    "#fig = plt.figure(figsize = (12, 8))\n",
    "plt.hist(diabetes['DiabetesPedigreeFunction'])\n",
    "plt.title('Distribution of Diabetes Pedigree Function')\n",
    "plt.ylabel('Frequency')\n",
    "plt.xlabel('Diabetes Pedigree Function')\n",
    "plt.show()"
   ]
  },
  {
   "cell_type": "code",
   "execution_count": 84,
   "id": "529b1008",
   "metadata": {},
   "outputs": [
    {
     "data": {
      "image/png": "[encoded data removed]",
      "text/plain": [
       "<Figure size 432x288 with 1 Axes>"
      ]
     },
     "metadata": {
      "needs_background": "light"
     },
     "output_type": "display_data"
    },
    {
     "name": "stdout",
     "output_type": "stream",
     "text": [
      "Counts of Age values less than 20:\n",
      "22    72\n",
      "21    63\n",
      "25    48\n",
      "24    46\n",
      "23    38\n",
      "28    35\n",
      "26    33\n",
      "27    32\n",
      "29    29\n",
      "Name: Age, dtype: int64\n"
     ]
    }
   ],
   "source": [
    "#fig = plt.figure(figsize = (12, 8))\n",
    "plt.hist(diabetes['Age'])\n",
    "plt.title('Age Distribution')\n",
    "plt.ylabel('Frequency')\n",
    "plt.xlabel('Age')\n",
    "plt.show()\n",
    "print('Counts of Age values less than 20:')\n",
    "print((diabetes['Age'].loc[diabetes['Age'] < 30]).value_counts())"
   ]
  },
  {
   "cell_type": "code",
   "execution_count": 95,
   "id": "a9eef566",
   "metadata": {},
   "outputs": [
    {
     "data": {
      "image/png": "[encoded data removed]",
      "text/plain": [
       "<Figure size 432x288 with 1 Axes>"
      ]
     },
     "metadata": {
      "needs_background": "light"
     },
     "output_type": "display_data"
    }
   ],
   "source": [
    "#fig = plt.figure(figsize = (12, 8))\n",
    "plt.hist(diabetes['Outcome'], bins = 2)\n",
    "plt.title('Diabetes Diagnostic Result Distribution')\n",
    "plt.ylabel('Frequency')\n",
    "plt.xlabel('Diabetes?')\n",
    "plt.xticks([0,1])\n",
    "plt.show()"
   ]
  },
  {
   "cell_type": "code",
   "execution_count": 23,
   "id": "3b09932e",
   "metadata": {},
   "outputs": [
    {
     "name": "stdout",
     "output_type": "stream",
     "text": [
      "-----Pregnancies-----\n",
      "1     135\n",
      "0     111\n",
      "2     103\n",
      "3      75\n",
      "4      68\n",
      "5      57\n",
      "6      50\n",
      "7      45\n",
      "8      38\n",
      "9      28\n",
      "10     24\n",
      "11     11\n",
      "13     10\n",
      "12      9\n",
      "14      2\n",
      "15      1\n",
      "17      1\n",
      "Name: Pregnancies, dtype: int64\n",
      "-----Glucose-----\n",
      "100    17\n",
      "99     17\n",
      "129    14\n",
      "125    14\n",
      "111    14\n",
      "       ..\n",
      "177     1\n",
      "172     1\n",
      "169     1\n",
      "160     1\n",
      "199     1\n",
      "Name: Glucose, Length: 136, dtype: int64\n",
      "-----BloodPressure-----\n",
      "70     57\n",
      "74     52\n",
      "68     45\n",
      "78     45\n",
      "72     44\n",
      "64     43\n",
      "80     40\n",
      "76     39\n",
      "60     37\n",
      "0      35\n",
      "62     34\n",
      "66     30\n",
      "82     30\n",
      "88     25\n",
      "84     23\n",
      "90     22\n",
      "86     21\n",
      "58     21\n",
      "50     13\n",
      "56     12\n",
      "52     11\n",
      "54     11\n",
      "92      8\n",
      "75      8\n",
      "65      7\n",
      "94      6\n",
      "85      6\n",
      "48      5\n",
      "44      4\n",
      "96      4\n",
      "110     3\n",
      "100     3\n",
      "98      3\n",
      "106     3\n",
      "108     2\n",
      "104     2\n",
      "30      2\n",
      "55      2\n",
      "46      2\n",
      "40      1\n",
      "38      1\n",
      "24      1\n",
      "95      1\n",
      "61      1\n",
      "102     1\n",
      "114     1\n",
      "122     1\n",
      "Name: BloodPressure, dtype: int64\n",
      "-----SkinThickness-----\n",
      "0     227\n",
      "32     31\n",
      "30     27\n",
      "27     23\n",
      "23     22\n",
      "33     20\n",
      "18     20\n",
      "28     20\n",
      "31     19\n",
      "39     18\n",
      "19     18\n",
      "29     17\n",
      "37     16\n",
      "26     16\n",
      "22     16\n",
      "40     16\n",
      "25     16\n",
      "35     15\n",
      "41     15\n",
      "36     14\n",
      "15     14\n",
      "17     14\n",
      "20     13\n",
      "24     12\n",
      "42     11\n",
      "13     11\n",
      "21     10\n",
      "34      8\n",
      "46      8\n",
      "38      7\n",
      "12      7\n",
      "14      6\n",
      "16      6\n",
      "11      6\n",
      "43      6\n",
      "45      6\n",
      "10      5\n",
      "44      5\n",
      "48      4\n",
      "47      4\n",
      "50      3\n",
      "49      3\n",
      "54      2\n",
      "52      2\n",
      "7       2\n",
      "8       2\n",
      "60      1\n",
      "56      1\n",
      "63      1\n",
      "51      1\n",
      "99      1\n",
      "Name: SkinThickness, dtype: int64\n",
      "-----Insulin-----\n",
      "0      374\n",
      "105     11\n",
      "140      9\n",
      "130      9\n",
      "120      8\n",
      "      ... \n",
      "271      1\n",
      "270      1\n",
      "108      1\n",
      "112      1\n",
      "846      1\n",
      "Name: Insulin, Length: 186, dtype: int64\n",
      "-----BMI-----\n",
      "32.0    13\n",
      "31.6    12\n",
      "31.2    12\n",
      "0.0     11\n",
      "33.3    10\n",
      "        ..\n",
      "32.1     1\n",
      "52.9     1\n",
      "31.3     1\n",
      "45.7     1\n",
      "42.8     1\n",
      "Name: BMI, Length: 248, dtype: int64\n",
      "-----DiabetesPedigreeFunction-----\n",
      "0.254    6\n",
      "0.258    6\n",
      "0.259    5\n",
      "0.238    5\n",
      "0.207    5\n",
      "        ..\n",
      "0.886    1\n",
      "0.804    1\n",
      "1.251    1\n",
      "0.382    1\n",
      "0.375    1\n",
      "Name: DiabetesPedigreeFunction, Length: 517, dtype: int64\n",
      "-----Age-----\n",
      "22    72\n",
      "21    63\n",
      "25    48\n",
      "24    46\n",
      "23    38\n",
      "28    35\n",
      "26    33\n",
      "27    32\n",
      "29    29\n",
      "31    24\n",
      "41    22\n",
      "30    21\n",
      "37    19\n",
      "42    18\n",
      "33    17\n",
      "32    16\n",
      "36    16\n",
      "38    16\n",
      "45    15\n",
      "34    14\n",
      "40    13\n",
      "43    13\n",
      "46    13\n",
      "39    12\n",
      "35    10\n",
      "50     8\n",
      "44     8\n",
      "51     8\n",
      "52     8\n",
      "58     7\n",
      "47     6\n",
      "54     6\n",
      "57     5\n",
      "60     5\n",
      "48     5\n",
      "49     5\n",
      "53     5\n",
      "55     4\n",
      "62     4\n",
      "63     4\n",
      "66     4\n",
      "56     3\n",
      "59     3\n",
      "65     3\n",
      "67     3\n",
      "61     2\n",
      "69     2\n",
      "72     1\n",
      "64     1\n",
      "68     1\n",
      "70     1\n",
      "81     1\n",
      "Name: Age, dtype: int64\n",
      "-----Outcome-----\n",
      "0    500\n",
      "1    268\n",
      "Name: Outcome, dtype: int64\n"
     ]
    }
   ],
   "source": [
    "for col in diabetes.columns:\n",
    "    print('-----%s-----' %col)\n",
    "    print(diabetes[col].value_counts())"
   ]
  }
 ],
 "metadata": {
  "kernelspec": {
   "display_name": "conda_python3",
   "language": "python",
   "name": "conda_python3"
  },
  "language_info": {
   "codemirror_mode": {
    "name": "ipython",
    "version": 3
   },
   "file_extension": ".py",
   "mimetype": "text/x-python",
   "name": "python",
   "nbconvert_exporter": "python",
   "pygments_lexer": "ipython3",
   "version": "3.6.13"
  }
 },
 "nbformat": 4,
 "nbformat_minor": 5
}
