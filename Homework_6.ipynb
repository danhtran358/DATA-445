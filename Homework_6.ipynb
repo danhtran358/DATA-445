{
 "cells": [
  {
   "cell_type": "code",
   "execution_count": 1,
   "id": "885945c9",
   "metadata": {},
   "outputs": [],
   "source": [
    "## 1.a All observation has the same intial weight as 1/(number of observation) which is 1/100\n",
    "\n",
    "## 1.b Because the observation is misclassified by the first learner, the new weight (second round)\n",
    "#      will be larger than the initial weight. Subsequently, the next learner will focus on this\n",
    "#      observation to find way to correctly classify it."
   ]
  },
  {
   "cell_type": "code",
   "execution_count": 2,
   "id": "8fa9e270",
   "metadata": {},
   "outputs": [],
   "source": [
    "## 2. AdaBoost.M1 is an ensemble learning algorithy be cause it builds and uses more than 1 learner.\n",
    "#     The framework sequentially build many learners to correctly classify the most number of\n",
    "#     observations, until reaching a preset number of learners. Finally, the prediction is a\n",
    "#     combined result of all learners built."
   ]
  },
  {
   "cell_type": "code",
   "execution_count": 3,
   "id": "5a67f013",
   "metadata": {},
   "outputs": [],
   "source": [
    "## 3. Observation      Old Weight      Correct?      New Weight\n",
    "#         1               0.16         Correct\n",
    "#         2               0.64         Correct\n",
    "#         3               0.08         Incorrect\n",
    "#         4               0.12         Incorrect\n",
    "#     \n",
    "#     epsilon = (0.08 + 0.12) / (0.16 + 0.64 + 0.08 + 0.12) = 0.2    < 0.5\n",
    "#     alpha = log[(1 - 0.2) / 0.2] = 1.386\n",
    "#     eta = 0.1\n",
    "#\n",
    "#     new weight 1 = 0.16 * e^(0.1 * 1.386 * (-1)) = 0.139 0.15\n",
    "#     new weight 2 = 0.64 * e^(0.1 * 1.386 * (-1)) = 0.557 0.6\n",
    "#     new weight 3 = 0.08 * e^(0.1 * 1.386 * 1) = 0.092    0.1\n",
    "#     new weight 4 = 0.12 * e^(0.1 * 1.386 * 1) = 0.138    0.15"
   ]
  },
  {
   "cell_type": "code",
   "execution_count": 4,
   "id": "ad5be869",
   "metadata": {},
   "outputs": [],
   "source": [
    "## 4. If an AdaBoost ensemble underfits the training dataset, the first thing that I would do is\n",
    "#     to tweak the learning rate. Lower learning rate should help adapt to the dataset better.\n",
    "#     Lower learning rate with a small number of learners could lead to underfitting as well, so\n",
    "#     that would be the next thing I will check."
   ]
  },
  {
   "cell_type": "code",
   "execution_count": 5,
   "id": "289e0620",
   "metadata": {},
   "outputs": [],
   "source": [
    "## 5. c"
   ]
  },
  {
   "cell_type": "code",
   "execution_count": 1,
   "id": "dfc711e5",
   "metadata": {},
   "outputs": [
    {
     "data": {
      "text/html": [
       "<div>\n",
       "<style scoped>\n",
       "    .dataframe tbody tr th:only-of-type {\n",
       "        vertical-align: middle;\n",
       "    }\n",
       "\n",
       "    .dataframe tbody tr th {\n",
       "        vertical-align: top;\n",
       "    }\n",
       "\n",
       "    .dataframe thead th {\n",
       "        text-align: right;\n",
       "    }\n",
       "</style>\n",
       "<table border=\"1\" class=\"dataframe\">\n",
       "  <thead>\n",
       "    <tr style=\"text-align: right;\">\n",
       "      <th></th>\n",
       "      <th>male</th>\n",
       "      <th>age</th>\n",
       "      <th>education</th>\n",
       "      <th>currentSmoker</th>\n",
       "      <th>cigsPerDay</th>\n",
       "      <th>BPMeds</th>\n",
       "      <th>prevalentStroke</th>\n",
       "      <th>prevalentHyp</th>\n",
       "      <th>diabetes</th>\n",
       "      <th>totChol</th>\n",
       "      <th>sysBP</th>\n",
       "      <th>diaBP</th>\n",
       "      <th>BMI</th>\n",
       "      <th>heartRate</th>\n",
       "      <th>glucose</th>\n",
       "      <th>TenYearCHD</th>\n",
       "    </tr>\n",
       "  </thead>\n",
       "  <tbody>\n",
       "    <tr>\n",
       "      <th>0</th>\n",
       "      <td>1</td>\n",
       "      <td>39</td>\n",
       "      <td>4.0</td>\n",
       "      <td>0</td>\n",
       "      <td>0.0</td>\n",
       "      <td>0.0</td>\n",
       "      <td>0</td>\n",
       "      <td>0</td>\n",
       "      <td>0</td>\n",
       "      <td>195.0</td>\n",
       "      <td>106.0</td>\n",
       "      <td>70.0</td>\n",
       "      <td>26.97</td>\n",
       "      <td>80.0</td>\n",
       "      <td>77.0</td>\n",
       "      <td>0</td>\n",
       "    </tr>\n",
       "    <tr>\n",
       "      <th>1</th>\n",
       "      <td>0</td>\n",
       "      <td>46</td>\n",
       "      <td>2.0</td>\n",
       "      <td>0</td>\n",
       "      <td>0.0</td>\n",
       "      <td>0.0</td>\n",
       "      <td>0</td>\n",
       "      <td>0</td>\n",
       "      <td>0</td>\n",
       "      <td>250.0</td>\n",
       "      <td>121.0</td>\n",
       "      <td>81.0</td>\n",
       "      <td>28.73</td>\n",
       "      <td>95.0</td>\n",
       "      <td>76.0</td>\n",
       "      <td>0</td>\n",
       "    </tr>\n",
       "    <tr>\n",
       "      <th>2</th>\n",
       "      <td>1</td>\n",
       "      <td>48</td>\n",
       "      <td>1.0</td>\n",
       "      <td>1</td>\n",
       "      <td>20.0</td>\n",
       "      <td>0.0</td>\n",
       "      <td>0</td>\n",
       "      <td>0</td>\n",
       "      <td>0</td>\n",
       "      <td>245.0</td>\n",
       "      <td>127.5</td>\n",
       "      <td>80.0</td>\n",
       "      <td>25.34</td>\n",
       "      <td>75.0</td>\n",
       "      <td>70.0</td>\n",
       "      <td>0</td>\n",
       "    </tr>\n",
       "    <tr>\n",
       "      <th>3</th>\n",
       "      <td>0</td>\n",
       "      <td>61</td>\n",
       "      <td>3.0</td>\n",
       "      <td>1</td>\n",
       "      <td>30.0</td>\n",
       "      <td>0.0</td>\n",
       "      <td>0</td>\n",
       "      <td>1</td>\n",
       "      <td>0</td>\n",
       "      <td>225.0</td>\n",
       "      <td>150.0</td>\n",
       "      <td>95.0</td>\n",
       "      <td>28.58</td>\n",
       "      <td>65.0</td>\n",
       "      <td>103.0</td>\n",
       "      <td>1</td>\n",
       "    </tr>\n",
       "    <tr>\n",
       "      <th>4</th>\n",
       "      <td>0</td>\n",
       "      <td>46</td>\n",
       "      <td>3.0</td>\n",
       "      <td>1</td>\n",
       "      <td>23.0</td>\n",
       "      <td>0.0</td>\n",
       "      <td>0</td>\n",
       "      <td>0</td>\n",
       "      <td>0</td>\n",
       "      <td>285.0</td>\n",
       "      <td>130.0</td>\n",
       "      <td>84.0</td>\n",
       "      <td>23.10</td>\n",
       "      <td>85.0</td>\n",
       "      <td>85.0</td>\n",
       "      <td>0</td>\n",
       "    </tr>\n",
       "  </tbody>\n",
       "</table>\n",
       "</div>"
      ],
      "text/plain": [
       "   male  age  education  currentSmoker  cigsPerDay  BPMeds  prevalentStroke  \\\n",
       "0     1   39        4.0              0         0.0     0.0                0   \n",
       "1     0   46        2.0              0         0.0     0.0                0   \n",
       "2     1   48        1.0              1        20.0     0.0                0   \n",
       "3     0   61        3.0              1        30.0     0.0                0   \n",
       "4     0   46        3.0              1        23.0     0.0                0   \n",
       "\n",
       "   prevalentHyp  diabetes  totChol  sysBP  diaBP    BMI  heartRate  glucose  \\\n",
       "0             0         0    195.0  106.0   70.0  26.97       80.0     77.0   \n",
       "1             0         0    250.0  121.0   81.0  28.73       95.0     76.0   \n",
       "2             0         0    245.0  127.5   80.0  25.34       75.0     70.0   \n",
       "3             1         0    225.0  150.0   95.0  28.58       65.0    103.0   \n",
       "4             0         0    285.0  130.0   84.0  23.10       85.0     85.0   \n",
       "\n",
       "   TenYearCHD  \n",
       "0           0  \n",
       "1           0  \n",
       "2           0  \n",
       "3           1  \n",
       "4           0  "
      ]
     },
     "execution_count": 1,
     "metadata": {},
     "output_type": "execute_result"
    }
   ],
   "source": [
    "## 6.a\n",
    "import boto3\n",
    "import pandas as pd\n",
    "import numpy as np\n",
    "from sklearn.ensemble import RandomForestClassifier, AdaBoostClassifier\n",
    "from sklearn.tree import DecisionTreeClassifier\n",
    "from sklearn.model_selection import train_test_split\n",
    "from sklearn.preprocessing import MinMaxScaler\n",
    "from sklearn.metrics import recall_score\n",
    "from sklearn.svm import SVC\n",
    "\n",
    "## Defining the bucket\n",
    "s3 = boto3.resource('s3')\n",
    "bucket_name = 'danhtran358-data-445-bucket'\n",
    "bucket = s3.Bucket(bucket_name)\n",
    "\n",
    "## Defining the csv file\n",
    "file_key = 'framingham.csv'\n",
    "\n",
    "bucket_object = bucket.Object(file_key)\n",
    "file_object = bucket_object.get()\n",
    "file_content_stream = file_object.get('Body')\n",
    "\n",
    "## Reading the csv file\n",
    "heart = pd.read_csv(file_content_stream)\n",
    "heart = heart.dropna()\n",
    "heart.head()"
   ]
  },
  {
   "cell_type": "code",
   "execution_count": 2,
   "id": "fbd18209",
   "metadata": {},
   "outputs": [],
   "source": [
    "## Defining input and target variables\n",
    "X = heart[['age', 'totChol', 'sysBP', 'BMI', 'heartRate', 'glucose']]\n",
    "Y = heart['TenYearCHD']\n",
    "\n",
    "## Splitting the data\n",
    "X_train, X_test, Y_train, Y_test = train_test_split(X, Y, test_size = 0.2, stratify = Y)\n",
    "\n",
    "## Scale features to range 0-1\n",
    "scaler = MinMaxScaler()\n",
    "X_train = scaler.fit_transform(X_train)\n",
    "X_test = scaler.fit_transform(X_test)"
   ]
  },
  {
   "cell_type": "code",
   "execution_count": 3,
   "id": "67d9bd1e",
   "metadata": {},
   "outputs": [
    {
     "data": {
      "text/plain": [
       "0.9017857142857143"
      ]
     },
     "execution_count": 3,
     "metadata": {},
     "output_type": "execute_result"
    }
   ],
   "source": [
    "md1 = RandomForestClassifier(max_depth = 3, n_estimators = 500).fit(X_train, Y_train)\n",
    "pred1 = md1.predict_proba(X_test)[:,1]\n",
    "pred1 = np.where(pred1 < 0.1, 0, 1)\n",
    "recall_score(Y_test, pred1)"
   ]
  },
  {
   "cell_type": "code",
   "execution_count": 5,
   "id": "2c7b82c9",
   "metadata": {},
   "outputs": [
    {
     "data": {
      "text/plain": [
       "0.9821428571428571"
      ]
     },
     "execution_count": 5,
     "metadata": {},
     "output_type": "execute_result"
    }
   ],
   "source": [
    "md2 = AdaBoostClassifier(base_estimator = DecisionTreeClassifier(max_depth = 3), n_estimators = 500).fit(X_train, Y_train)\n",
    "pred2 = md1.predict_proba(X_test)[:,1]\n",
    "pred2 = np.where(pred2 < 0.1, 0, 1)\n",
    "recall_score(Y_test, pred2)"
   ]
  },
  {
   "cell_type": "code",
   "execution_count": null,
   "id": "4ab0060e",
   "metadata": {},
   "outputs": [],
   "source": [
    "md3 = AdaBoostClassifier(base_estimator = SVC(kernel = 'rbf', probability = True), n_estimators = 50).fit(X_train, Y_train)\n",
    "pred3 = md1.predict_proba(X_test)[:,1]\n",
    "pred3 = np.where(pred3 < 0.1, 0, 1)\n",
    "recall_score(Y_test, pred3)"
   ]
  },
  {
   "cell_type": "code",
   "execution_count": 27,
   "id": "7cee8313",
   "metadata": {},
   "outputs": [],
   "source": [
    "def get_recall_rf(X_train, X_test, Y_train, Y_test):\n",
    "    ## Random forest model\n",
    "    md_rf = RandomForestClassifier(max_depth = 3, n_estimators = 500).fit(X_train, Y_train)\n",
    "    \n",
    "    ## Predict and classfify\n",
    "    pred_rf = md_rf.predict_proba(X_test)[:,1]\n",
    "    pred_rf = np.where(pred_rf < 0.1, 0, 1)\n",
    "    \n",
    "    ## Calculate recall score and return\n",
    "    return recall_score(Y_test, pred_rf)"
   ]
  },
  {
   "cell_type": "code",
   "execution_count": 28,
   "id": "dae39fe5",
   "metadata": {},
   "outputs": [],
   "source": [
    "def get_recall_ada_tree(X_train, X_test, Y_train, Y_test):\n",
    "    ## Adaboost model with Decision Tree leaners\n",
    "    md_ada_tree = AdaBoostClassifier(base_estimator = DecisionTreeClassifier(max_depth = 3), n_estimators = 500).fit(X_train, Y_train)\n",
    "    \n",
    "    ## Predict and classfify\n",
    "    pred_ada_tree = md_ada_tree.predict_proba(X_test)[:,1]\n",
    "    pred_ada_tree = np.where(pred_ada_tree < 0.1, 0, 1)\n",
    "    \n",
    "    ## Calculate recall score and return\n",
    "    return recall_score(Y_test, pred_ada_tree)"
   ]
  },
  {
   "cell_type": "code",
   "execution_count": 29,
   "id": "a1c865ff",
   "metadata": {},
   "outputs": [],
   "source": [
    "def get_recall_ada_svc(X_train, X_test, Y_train, Y_test):\n",
    "    ## Adaboost model with Support Vector Machine leaners\n",
    "    md_ada_svc = AdaBoostClassifier(base_estimator = SVC(kernel = 'rbf', probability = True), n_estimators = 50).fit(X_train, Y_train)\n",
    "    \n",
    "    ## Predict and classfify\n",
    "    pred_ada_svc = md_ada_svc.predict_proba(X_test)[:,1]\n",
    "    pred_ada_svc = np.where(pred_ada_svc < 0.1, 0, 1)\n",
    "    \n",
    "    ## Calculate recall score and return\n",
    "    return recall_score(Y_test, pred_ada_svc)"
   ]
  },
  {
   "cell_type": "code",
   "execution_count": 30,
   "id": "2f7c3d7b",
   "metadata": {},
   "outputs": [
    {
     "name": "stdout",
     "output_type": "stream",
     "text": [
      "0.9285714285714286\n",
      "1.0\n"
     ]
    }
   ],
   "source": [
    "print(get_recall_rf(X_train, X_test, Y_train, Y_test))\n",
    "print(get_recall_ada_tree(X_train, X_test, Y_train, Y_test))"
   ]
  },
  {
   "cell_type": "code",
   "execution_count": 26,
   "id": "3db15fa9",
   "metadata": {},
   "outputs": [
    {
     "name": "stdout",
     "output_type": "stream",
     "text": [
      "0.9196428571428571\n"
     ]
    }
   ],
   "source": [
    "print(get_recall_ada_svc(X_train, X_test, Y_train, Y_test))"
   ]
  },
  {
   "cell_type": "code",
   "execution_count": 31,
   "id": "d1b06930",
   "metadata": {},
   "outputs": [
    {
     "name": "stdout",
     "output_type": "stream",
     "text": [
      "1.0\n"
     ]
    }
   ],
   "source": [
    "print(get_recall_ada_svc(X_train, X_test, Y_train, Y_test))"
   ]
  },
  {
   "cell_type": "code",
   "execution_count": 11,
   "id": "448d0e3d",
   "metadata": {},
   "outputs": [],
   "source": [
    "a = list()\n",
    "b = list()\n",
    "a.append(1)\n",
    "a.append(2)\n",
    "a.append(3)\n",
    "a.append(4)\n",
    "b.append(1)\n",
    "b.append(2)\n",
    "b.append(3)\n",
    "b.append(4)\n",
    "print(a)\n",
    "print(b)\n",
    "c = a + b\n",
    "print(c)"
   ]
  },
  {
   "cell_type": "code",
   "execution_count": 4,
   "id": "5399ef8a",
   "metadata": {},
   "outputs": [
    {
     "name": "stdout",
     "output_type": "stream",
     "text": [
      "[0.9285714285714286, 0.9196428571428571]\n",
      "[1.0, 1.0]\n",
      "[1.0, 1.0]\n"
     ]
    }
   ],
   "source": [
    "rf_recall = list()\n",
    "ada_tree_recall = list()\n",
    "ada_svc_recall = list()\n",
    "scaler = MinMaxScaler()\n",
    "\n",
    "for i in range(2):\n",
    "    ## Defining input and target variables\n",
    "    X = heart[['age', 'totChol', 'sysBP', 'BMI', 'heartRate', 'glucose']]\n",
    "    Y = heart['TenYearCHD']\n",
    "\n",
    "    ## Splitting the data\n",
    "    X_train, X_test, Y_train, Y_test = train_test_split(X, Y, test_size = 0.2, stratify = Y)\n",
    "\n",
    "    ## Scale features to range 0-1\n",
    "    X_train = scaler.fit_transform(X_train)\n",
    "    X_test = scaler.fit_transform(X_test)\n",
    "\n",
    "    ## Random forest model\n",
    "    md_rf = RandomForestClassifier(max_depth = 3, n_estimators = 500).fit(X_train, Y_train)\n",
    "\n",
    "    ## Predict and classfify\n",
    "    pred_rf = md_rf.predict_proba(X_test)[:,1]\n",
    "    pred_rf = np.where(pred_rf < 0.1, 0, 1)\n",
    "\n",
    "    ## Calculate recall score and store\n",
    "    rf_recall.append(recall_score(Y_test, pred_rf))\n",
    "\n",
    "    ## Adaboost model with Decision Tree leaners\n",
    "    md_ada_tree = AdaBoostClassifier(base_estimator = DecisionTreeClassifier(max_depth = 3), n_estimators = 500).fit(X_train, Y_train)\n",
    "\n",
    "    ## Predict and classfify\n",
    "    pred_ada_tree = md_ada_tree.predict_proba(X_test)[:,1]\n",
    "    pred_ada_tree = np.where(pred_ada_tree < 0.1, 0, 1)\n",
    "\n",
    "    ## Calculate recall score and store\n",
    "    ada_tree_recall.append(recall_score(Y_test, pred_ada_tree))\n",
    "\n",
    "    ## Adaboost model with Support Vector Machine leaners\n",
    "    md_ada_svc = AdaBoostClassifier(base_estimator = SVC(kernel = 'rbf', probability = True), n_estimators = 50).fit(X_train, Y_train)\n",
    "\n",
    "    ## Predict and classfify\n",
    "    pred_ada_svc = md_ada_svc.predict_proba(X_test)[:,1]\n",
    "    pred_ada_svc = np.where(pred_ada_svc < 0.1, 0, 1)\n",
    "\n",
    "    ## Calculate recall score and store\n",
    "    ada_svc_recall.append(recall_score(Y_test, pred_ada_svc))\n",
    "    \n",
    "print(rf_recall)\n",
    "print(ada_tree_recall)\n",
    "print(ada_svc_recall)"
   ]
  },
  {
   "cell_type": "code",
   "execution_count": null,
   "id": "7b9e6101",
   "metadata": {},
   "outputs": [],
   "source": [
    "rf_recall = list()\n",
    "ada_tree_recall = list()\n",
    "ada_svc_recall = list()\n",
    "scaler = MinMaxScaler()\n",
    "\n",
    "for i in range(2):\n",
    "    ## Defining input and target variables\n",
    "    X = heart[['age', 'totChol', 'sysBP', 'BMI', 'heartRate', 'glucose']]\n",
    "    Y = heart['TenYearCHD']\n",
    "\n",
    "    ## Splitting the data\n",
    "    X_train, X_test, Y_train, Y_test = train_test_split(X, Y, test_size = 0.2, stratify = Y)\n",
    "\n",
    "    ## Scale features to range 0-1\n",
    "    X_train = scaler.fit_transform(X_train)\n",
    "    X_test = scaler.fit_transform(X_test)\n",
    "    \n",
    "    rf_recall.append(get_recall_rf(X_train, X_test, Y_train, Y_test))\n",
    "    ada_tree_recall.append(get_recall_ada_tree(X_train, X_test, Y_train, Y_test))\n",
    "    ada_svc_recall.append(get_recall_ada_svc(X_train, X_test, Y_train, Y_test))\n",
    "    \n",
    "print(rf_recall)\n",
    "print(ada_tree_recall)\n",
    "print(ada_svc_recall)"
   ]
  }
 ],
 "metadata": {
  "kernelspec": {
   "display_name": "conda_python3",
   "language": "python",
   "name": "conda_python3"
  },
  "language_info": {
   "codemirror_mode": {
    "name": "ipython",
    "version": 3
   },
   "file_extension": ".py",
   "mimetype": "text/x-python",
   "name": "python",
   "nbconvert_exporter": "python",
   "pygments_lexer": "ipython3",
   "version": "3.6.13"
  }
 },
 "nbformat": 4,
 "nbformat_minor": 5
}
